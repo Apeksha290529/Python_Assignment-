{
 "cells": [
  {
   "cell_type": "raw",
   "id": "6609b465-7a12-4326-a6ed-38d38a088039",
   "metadata": {},
   "source": [
    "1. Question 1:\n",
    "Create a variable age and assign it the value 25 . Then print the value of\n",
    "age along with its data type using the type() function."
   ]
  },
  {
   "cell_type": "code",
   "execution_count": 6,
   "id": "81ea2d56-28d8-4238-a1c1-726e07d50441",
   "metadata": {},
   "outputs": [
    {
     "name": "stdout",
     "output_type": "stream",
     "text": [
      "Age: 25\n",
      "Type: <class 'int'>\n"
     ]
    }
   ],
   "source": [
    "age = 25\n",
    "print(\"Age:\", age)\n",
    "print(\"Type:\", type(age))"
   ]
  },
  {
   "cell_type": "raw",
   "id": "8e94a847-9043-404a-b9b4-5d5fc5529991",
   "metadata": {},
   "source": [
    "2. Question 2:\n",
    "Assign the number 12.5 to a variable price . Print both the variable and its\n",
    "data type. Then assign the value 12 to the same variable and print its data\n",
    "type again. What do you observe?"
   ]
  },
  {
   "cell_type": "code",
   "execution_count": 7,
   "id": "052241aa-7521-4413-8f51-f833f0d1804a",
   "metadata": {},
   "outputs": [
    {
     "name": "stdout",
     "output_type": "stream",
     "text": [
      "Price: 12.5\n",
      "Type: <class 'float'>\n",
      "Updated Price: 12\n",
      "New Type: <class 'int'>\n"
     ]
    }
   ],
   "source": [
    "price = 12.5\n",
    "print(\"Price:\", price)\n",
    "print(\"Type:\", type(price))\n",
    "\n",
    "price = 12\n",
    "print(\"Updated Price:\", price)\n",
    "print(\"New Type:\", type(price))"
   ]
  },
  {
   "cell_type": "raw",
   "id": "d55476a5-4b65-4e36-bc1f-a829284c3b28",
   "metadata": {},
   "source": [
    "3. Question 3:\n",
    "Create a variable is_raining and set it to True . Print the value of the variable\n",
    "along with its type. Then set is_raining to False and print the new value and\n",
    "type."
   ]
  },
  {
   "cell_type": "code",
   "execution_count": 3,
   "id": "31018341-30e9-4275-8b43-a189fa1ae816",
   "metadata": {},
   "outputs": [
    {
     "name": "stdout",
     "output_type": "stream",
     "text": [
      "Is it raining? True\n",
      "Type: <class 'bool'>\n",
      "Updated value: False\n",
      "New Type: <class 'bool'>\n"
     ]
    }
   ],
   "source": [
    "is_raining = True\n",
    "print(\"Is it raining?\", is_raining)\n",
    "print(\"Type:\", type(is_raining))\n",
    "\n",
    "is_raining = False\n",
    "print(\"Updated value:\", is_raining)\n",
    "print(\"New Type:\", type(is_raining))"
   ]
  },
  {
   "cell_type": "raw",
   "id": "1858e5b4-50be-445b-8cde-c20c899d382e",
   "metadata": {},
   "source": [
    "4. Question 4:\n",
    "Create a variable my_name and store your full name in it as a string. Then\n",
    "print the value of my_name using single quotes"
   ]
  },
  {
   "cell_type": "code",
   "execution_count": 4,
   "id": "8ffdce21-2dab-4981-8cce-2da7a7b226bc",
   "metadata": {},
   "outputs": [
    {
     "name": "stdout",
     "output_type": "stream",
     "text": [
      "My name is: Apeksha Bhoir\n"
     ]
    }
   ],
   "source": [
    "my_name = 'Apeksha Bhoir'\n",
    "print('My name is:', my_name)"
   ]
  },
  {
   "cell_type": "raw",
   "id": "ce815202-e3f9-4ddf-bf9c-b43f92f5d2b9",
   "metadata": {},
   "source": [
    "5. Question 5:\n",
    "Write a Python program that asks the user for their name and age using the\n",
    "input() function. Store the inputs in variables and print a sentence like\n",
    "\"Hello, [Name]! You are [Age] years old.\" Ensure you cast the age to an\n",
    "integer."
   ]
  },
  {
   "cell_type": "code",
   "execution_count": 5,
   "id": "0c987839-eee4-4037-9a4f-ac27671363b0",
   "metadata": {},
   "outputs": [
    {
     "name": "stdin",
     "output_type": "stream",
     "text": [
      "Enter your name:  apeksha\n",
      "Enter your age:  24\n"
     ]
    },
    {
     "name": "stdout",
     "output_type": "stream",
     "text": [
      "Hello, apeksha! You are 24 years old.\n"
     ]
    }
   ],
   "source": [
    "name = input(\"Enter your name: \")\n",
    "age = int(input(\"Enter your age: \"))\n",
    "print(f\"Hello, {name}! You are {age} years old.\")"
   ]
  },
  {
   "cell_type": "raw",
   "id": "b499b7e2-2f0e-4dfd-a4fa-5039aa833702",
   "metadata": {},
   "source": [
    "6. Question 6:\n",
    "Create two variables x and y and assign them the values 10 and 3.5 ,\n",
    "respectively. Print their values and types. Then, create a new variable\n",
    "sum_xy and store the sum of x and y . Print the result and its type."
   ]
  },
  {
   "cell_type": "code",
   "execution_count": null,
   "id": "d940a29f-9f45-46d8-b3f1-e7de65f94d9c",
   "metadata": {},
   "outputs": [],
   "source": [
    "x = 10\n",
    "y = 3.5\n",
    "print(\"x:\", x, \"Type:\", type(x))\n",
    "print(\"y:\", y, \"Type:\", type(y))\n",
    "\n",
    "sum_xy = x + y\n",
    "print(\"Sum:\", sum_xy, \"Type:\", type(sum_xy))"
   ]
  },
  {
   "cell_type": "raw",
   "id": "365a58cc-ba7a-4aac-bfd4-0397a3ec0178",
   "metadata": {},
   "source": [
    "7. Question 7:\n",
    "Using the type() function, check and print the data type of the following:\n",
    "45.0\n",
    "\"hello\"\n",
    "None\n",
    "False"
   ]
  },
  {
   "cell_type": "code",
   "execution_count": null,
   "id": "a4a8f321-4107-4502-8c34-01bc7353c9e3",
   "metadata": {},
   "outputs": [],
   "source": [
    "print(\"Type of 45.0:\", type(45.0))\n",
    "print(\"Type of 'hello':\", type(\"hello\"))\n",
    "print(\"Type of None:\", type(None))\n",
    "print(\"Type of False:\", type(False))"
   ]
  },
  {
   "cell_type": "raw",
   "id": "32d4d741-cf44-4a66-b4bf-1a0592c83f58",
   "metadata": {},
   "source": [
    "8. Question 8:\n",
    "Write a Python program to print three strings \"apple\" , \"banana\" , and \"cherry\"\n",
    "on the same line, separated by a space. Then modify the program to\n",
    "separate the strings using a comma , instead of a space."
   ]
  },
  {
   "cell_type": "code",
   "execution_count": null,
   "id": "18838c0c-caab-4cc5-a57f-552f607e7860",
   "metadata": {},
   "outputs": [],
   "source": [
    "# With space\n",
    "print(\"apple\", \"banana\", \"cherry\")\n",
    "\n",
    "# With comma\n",
    "print(\"apple,banana,cherry\")"
   ]
  },
  {
   "cell_type": "raw",
   "id": "476e1717-2168-4fc8-94dc-f26a03e16e4a",
   "metadata": {},
   "source": [
    "9. Question 9:\n",
    "Create a variable big_number and assign it a very large integer value (e.g.,\n",
    "987654321987654321 ). Print the value and its type. What do you notice about\n",
    "the size of the number?"
   ]
  },
  {
   "cell_type": "code",
   "execution_count": null,
   "id": "9849cc20-ef2f-4115-a17b-54495c468deb",
   "metadata": {},
   "outputs": [],
   "source": [
    "big_number = 987654321987654321\n",
    "print(\"Big Number:\", big_number)\n",
    "print(\"Type:\", type(big_number))"
   ]
  },
  {
   "cell_type": "raw",
   "id": "05b145e4-ef24-4c2a-8d4f-bf9e006bf0c5",
   "metadata": {},
   "source": [
    "10. Question 10:\n",
    "Write a Python program that prints the result of multiplying two floats (e.g.,\n",
    "2.5 and 3.7 ). Then check and print the data type of the result."
   ]
  },
  {
   "cell_type": "code",
   "execution_count": null,
   "id": "8a85ef11-358c-4993-b5e4-4f9a851be46e",
   "metadata": {},
   "outputs": [],
   "source": [
    "result = 2.5 * 3.7\n",
    "print(\"Multiplication result:\", result)\n",
    "print(\"Type:\", type(result))"
   ]
  }
 ],
 "metadata": {
  "kernelspec": {
   "display_name": "Python 3 (ipykernel)",
   "language": "python",
   "name": "python3"
  },
  "language_info": {
   "codemirror_mode": {
    "name": "ipython",
    "version": 3
   },
   "file_extension": ".py",
   "mimetype": "text/x-python",
   "name": "python",
   "nbconvert_exporter": "python",
   "pygments_lexer": "ipython3",
   "version": "3.12.7"
  }
 },
 "nbformat": 4,
 "nbformat_minor": 5
}
