{
 "cells": [
  {
   "cell_type": "raw",
   "id": "f5c42637-1306-48a6-b129-8e3badf2c59e",
   "metadata": {},
   "source": [
    "Q1. Explain the difference between def statements and lambda expressions. Give an\n",
    "example of each."
   ]
  },
  {
   "cell_type": "code",
   "execution_count": 2,
   "id": "32693cbf-7b79-42e3-8abc-76124b9a1b9c",
   "metadata": {},
   "outputs": [
    {
     "name": "stdout",
     "output_type": "stream",
     "text": [
      "5\n"
     ]
    }
   ],
   "source": [
    "def add(a, b):\n",
    "    return a + b\n",
    "\n",
    "print(add(2, 3))"
   ]
  },
  {
   "cell_type": "raw",
   "id": "7f364fc2-218c-4deb-a60a-5a8a9d97dcb0",
   "metadata": {},
   "source": [
    "Q2. List and explain three benefits of using lambda expressions."
   ]
  },
  {
   "cell_type": "markdown",
   "id": "d3d0f6ad-597d-4501-8994-11f4ca2ead2e",
   "metadata": {},
   "source": [
    "1.Concise syntax: Great for short functions.\n",
    "2.Inline usage: Useful with functions like map, filter, and sorted.\n",
    "3.No need for naming: Ideal when you don’t want to reuse the function elsewhere."
   ]
  },
  {
   "cell_type": "code",
   "execution_count": null,
   "id": "ebc6da30-0088-48f9-803b-3c2271b2c25e",
   "metadata": {},
   "outputs": [],
   "source": [
    "Q3. Compare map(), filter(), and reduce() with one-line examples using a lambda\n",
    "function and a list."
   ]
  },
  {
   "cell_type": "code",
   "execution_count": 3,
   "id": "cab85cfe-f362-41cb-b510-c849f7224339",
   "metadata": {},
   "outputs": [
    {
     "name": "stdout",
     "output_type": "stream",
     "text": [
      "[2, 4, 6]\n",
      "[2, 4]\n",
      "10\n"
     ]
    }
   ],
   "source": [
    "from functools import reduce\n",
    "\n",
    "# map: apply function to each item\n",
    "print(list(map(lambda x: x * 2, [1, 2, 3])))  # [2, 4, 6]\n",
    "\n",
    "# filter: select items that satisfy a condition\n",
    "print(list(filter(lambda x: x % 2 == 0, [1, 2, 3, 4])))  # [2, 4]\n",
    "\n",
    "# reduce: apply function cumulatively\n",
    "print(reduce(lambda x, y: x + y, [1, 2, 3, 4]))  # 10"
   ]
  },
  {
   "cell_type": "code",
   "execution_count": null,
   "id": "56c5d887-b4e0-4c93-ab56-7b169258df6a",
   "metadata": {},
   "outputs": [],
   "source": [
    "Q4. What are function annotations in Python? Write a function that uses them."
   ]
  },
  {
   "cell_type": "code",
   "execution_count": 5,
   "id": "64e59c99-ed36-4f43-87d0-04a2ab511aa2",
   "metadata": {},
   "outputs": [],
   "source": [
    "def greet(name: str) -> str:\n",
    "    return f\"Hello, {name}!\""
   ]
  },
  {
   "cell_type": "markdown",
   "id": "161e12dd-7179-472d-bc1e-d9aeeaad0a75",
   "metadata": {},
   "source": [
    "Q5. What is a recursive function? Write a simple recursive function to calculate the\n",
    "factorial of a number."
   ]
  },
  {
   "cell_type": "markdown",
   "id": "cd78fbeb-b216-4a8b-85ee-a1df810de27d",
   "metadata": {},
   "source": []
  },
  {
   "cell_type": "code",
   "execution_count": 7,
   "id": "2aded38c-cb78-44da-b1f2-4edfce48590f",
   "metadata": {},
   "outputs": [
    {
     "name": "stdout",
     "output_type": "stream",
     "text": [
      "120\n"
     ]
    }
   ],
   "source": [
    "def factorial(n):\n",
    "    if n == 0:\n",
    "        return 1\n",
    "    else:\n",
    "        return n * factorial(n - 1)\n",
    "\n",
    "print(factorial(5))  # Output: 120"
   ]
  },
  {
   "cell_type": "markdown",
   "id": "5ed197db-fc31-4d64-858e-b79cd0be8c29",
   "metadata": {},
   "source": [
    "Q6. State five design guidelines you should follow while writing functions in Python."
   ]
  },
  {
   "cell_type": "markdown",
   "id": "cf3fb4b4-5c5f-438a-8ee9-c31bb3e3de38",
   "metadata": {},
   "source": [
    "1.Keep functions small and focused on a single task.\n",
    "\n",
    "2.Use meaningful names.\n",
    "\n",
    "3.Document with docstrings.\n",
    "\n",
    "4.Avoid global variables.\n",
    "\n",
    "5.Use default arguments where needed."
   ]
  },
  {
   "cell_type": "markdown",
   "id": "35afede6-0a2d-41e3-bfcf-32764967e56c",
   "metadata": {},
   "source": [
    "Q7. Name at least three ways a function can communicate results to a caller and briefly\n",
    "explain each."
   ]
  },
  {
   "cell_type": "markdown",
   "id": "2a6dbb20-0713-4f91-b3ff-d86f70ab1f91",
   "metadata": {},
   "source": [
    "1.Return Statement: Sends back a result."
   ]
  },
  {
   "cell_type": "code",
   "execution_count": 11,
   "id": "940a05aa-38cb-482e-be8f-8a5dbc801f86",
   "metadata": {},
   "outputs": [],
   "source": [
    "def add(x, y):\n",
    "    return x + y"
   ]
  },
  {
   "cell_type": "raw",
   "id": "a6e584ae-d7b4-4bf5-a219-7dd358393f97",
   "metadata": {},
   "source": [
    "2.Print Statement: Displays result directly (for debugging)."
   ]
  },
  {
   "cell_type": "code",
   "execution_count": 12,
   "id": "d4bd167a-2f52-4add-ae6a-8bc14cd72594",
   "metadata": {},
   "outputs": [],
   "source": [
    "def show(x):\n",
    "    print(\"Value is\", x)"
   ]
  },
  {
   "cell_type": "raw",
   "id": "b9c9ff99-4b4c-4ef9-880d-b4126e04abfe",
   "metadata": {},
   "source": [
    "3.Yield Statement: Returns a generator for iteration."
   ]
  },
  {
   "cell_type": "code",
   "execution_count": 13,
   "id": "7e0da845-eef9-4b53-95c6-4ca46d9776f2",
   "metadata": {},
   "outputs": [],
   "source": [
    "def gen():\n",
    "    yield 1\n",
    "    yield 2"
   ]
  },
  {
   "cell_type": "code",
   "execution_count": null,
   "id": "08ab9c18-48c8-4a93-bf5a-92b0720ee4eb",
   "metadata": {},
   "outputs": [],
   "source": [
    "2. Coding Tasks"
   ]
  },
  {
   "cell_type": "raw",
   "id": "b4e3239d-d5f2-4d11-adf8-dd7643f1a691",
   "metadata": {},
   "source": [
    "Task 1:\n",
    "Write a lambda function that takes two numbers and returns their product. Assign it to a\n",
    "variable and call it with 5 and 7."
   ]
  },
  {
   "cell_type": "code",
   "execution_count": 14,
   "id": "d0922872-8887-4b2a-8ce5-8fa09b1c1a4f",
   "metadata": {},
   "outputs": [
    {
     "name": "stdout",
     "output_type": "stream",
     "text": [
      "35\n"
     ]
    }
   ],
   "source": [
    "product = lambda x, y: x * y\n",
    "print(product(5, 7)) "
   ]
  },
  {
   "cell_type": "code",
   "execution_count": null,
   "id": "53ec6b26-8963-4161-a40d-6f33ce98537a",
   "metadata": {},
   "outputs": [],
   "source": [
    "Task 2:\n",
    "Use map() to square every number in a list [1, 2, 3, 4, 5]."
   ]
  },
  {
   "cell_type": "code",
   "execution_count": 15,
   "id": "a51f900f-3282-49da-9538-be47c79cb3b9",
   "metadata": {},
   "outputs": [
    {
     "name": "stdout",
     "output_type": "stream",
     "text": [
      "[1, 4, 9, 16, 25]\n"
     ]
    }
   ],
   "source": [
    "print(list(map(lambda x: x ** 2, [1, 2, 3, 4, 5])))"
   ]
  },
  {
   "cell_type": "code",
   "execution_count": null,
   "id": "5dea435a-784e-4b4a-ad7d-120c356ce6b9",
   "metadata": {},
   "outputs": [],
   "source": [
    "Task 3:\n",
    "Use filter() to extract only the even numbers from the list [10, 15, 20, 25, 30]."
   ]
  },
  {
   "cell_type": "code",
   "execution_count": 16,
   "id": "6f1f8a9c-ea87-4078-84fc-51cc082e6719",
   "metadata": {},
   "outputs": [
    {
     "name": "stdout",
     "output_type": "stream",
     "text": [
      "[10, 20, 30]\n"
     ]
    }
   ],
   "source": [
    "print(list(filter(lambda x: x % 2 == 0, [10, 15, 20, 25, 30])))"
   ]
  },
  {
   "cell_type": "code",
   "execution_count": null,
   "id": "0e1dc2c3-3390-4afa-bed6-066b323b5b0c",
   "metadata": {},
   "outputs": [],
   "source": [
    "Task 4:\n",
    "Use reduce() from functools to calculate the product of numbers in [1, 2, 3, 4, 5]."
   ]
  },
  {
   "cell_type": "code",
   "execution_count": 17,
   "id": "d82dbf8f-0717-4f8a-8c5b-8ac44decbf3b",
   "metadata": {},
   "outputs": [
    {
     "name": "stdout",
     "output_type": "stream",
     "text": [
      "120\n"
     ]
    }
   ],
   "source": [
    "from functools import reduce\n",
    "print(reduce(lambda x, y: x * y, [1, 2, 3, 4, 5]))"
   ]
  },
  {
   "cell_type": "markdown",
   "id": "519e37b1-3c74-4d59-bcb4-7390b404d1c5",
   "metadata": {},
   "source": [
    "Task 5:\n",
    "Create a function with annotations that:\n",
    "• takes an integer as input,\n",
    "• returns a string saying whether it is \"Even\" or \"Odd\"."
   ]
  },
  {
   "cell_type": "code",
   "execution_count": 18,
   "id": "6d441ebd-5cfb-4da3-ace8-b021d04629e6",
   "metadata": {},
   "outputs": [
    {
     "name": "stdout",
     "output_type": "stream",
     "text": [
      "Even\n"
     ]
    }
   ],
   "source": [
    "def check_even_odd(n: int) -> str:\n",
    "    return \"Even\" if n % 2 == 0 else \"Odd\"\n",
    "\n",
    "print(check_even_odd(4)) "
   ]
  },
  {
   "cell_type": "markdown",
   "id": "f9b68413-487c-40ca-bfb0-0b4a0476476f",
   "metadata": {},
   "source": [
    "Task 6:\n",
    "Write a recursive function to compute the sum of all numbers from 1 to n."
   ]
  },
  {
   "cell_type": "code",
   "execution_count": 19,
   "id": "506e40c9-96e1-47f1-b96b-0214da7e85d4",
   "metadata": {},
   "outputs": [
    {
     "name": "stdout",
     "output_type": "stream",
     "text": [
      "15\n"
     ]
    }
   ],
   "source": [
    "def recursive_sum(n):\n",
    "    if n == 0:\n",
    "        return 0\n",
    "    else:\n",
    "        return n + recursive_sum(n - 1)\n",
    "\n",
    "print(recursive_sum(5)) "
   ]
  },
  {
   "cell_type": "markdown",
   "id": "7c7ae6dd-2b64-4e07-b8ba-3cbeb028c24f",
   "metadata": {},
   "source": [
    "Bonus Question\n",
    "Write a function that returns different results using print, return, and yield. Call the\n",
    "function and show how each type of output works."
   ]
  },
  {
   "cell_type": "code",
   "execution_count": 20,
   "id": "31572030-f5a8-4966-afbc-a1b5c1cde282",
   "metadata": {},
   "outputs": [
    {
     "name": "stdout",
     "output_type": "stream",
     "text": [
      "First\n",
      "Second\n"
     ]
    }
   ],
   "source": [
    "def demo_outputs():\n",
    "    print(\"Using print\")  # side-effect\n",
    "    return \"Using return\"  # sends value back\n",
    "    yield \"Using yield\"  # won't be executed due to return above\n",
    "\n",
    "# Call and observe\n",
    "demo_outputs()  # Only prints, does not return anything\n",
    "\n",
    "def demo_yield():\n",
    "    yield \"First\"\n",
    "    yield \"Second\"\n",
    "\n",
    "# Generator example\n",
    "gen = demo_yield()\n",
    "for item in gen:\n",
    "    print(item)"
   ]
  },
  {
   "cell_type": "code",
   "execution_count": null,
   "id": "72dc0470-62bf-46ba-8128-c94ac7ff68db",
   "metadata": {},
   "outputs": [],
   "source": []
  }
 ],
 "metadata": {
  "kernelspec": {
   "display_name": "Python 3 (ipykernel)",
   "language": "python",
   "name": "python3"
  },
  "language_info": {
   "codemirror_mode": {
    "name": "ipython",
    "version": 3
   },
   "file_extension": ".py",
   "mimetype": "text/x-python",
   "name": "python",
   "nbconvert_exporter": "python",
   "pygments_lexer": "ipython3",
   "version": "3.12.7"
  }
 },
 "nbformat": 4,
 "nbformat_minor": 5
}
