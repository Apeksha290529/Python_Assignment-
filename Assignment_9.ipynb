{
  "nbformat": 4,
  "nbformat_minor": 0,
  "metadata": {
    "colab": {
      "provenance": []
    },
    "kernelspec": {
      "name": "python3",
      "display_name": "Python 3"
    },
    "language_info": {
      "name": "python"
    }
  },
  "cells": [
    {
      "cell_type": "markdown",
      "source": [
        "1. Year List Creation\n",
        "Create a list years_list that includes the year of your birth and the next five years (total 6\n",
        "years)."
      ],
      "metadata": {
        "id": "RZnrNEbnyU13"
      }
    },
    {
      "cell_type": "code",
      "execution_count": 1,
      "metadata": {
        "colab": {
          "base_uri": "https://localhost:8080/"
        },
        "id": "7cctaivqyK5D",
        "outputId": "3f91f22f-12c3-43d0-e50f-31dc70e38294"
      },
      "outputs": [
        {
          "output_type": "stream",
          "name": "stdout",
          "text": [
            "[2000, 2001, 2002, 2003, 2004, 2005]\n"
          ]
        }
      ],
      "source": [
        "years_list = [year for year in range(2000, 2000 + 6)]\n",
        "print(years_list)\n"
      ]
    },
    {
      "cell_type": "markdown",
      "source": [
        "2. Third Birthday Year\n",
        "Print the year in years_list when you were 3 years old.\n",
        "Hint: Remember, your 0th year is the first item."
      ],
      "metadata": {
        "id": "7YQ0lbtYys8c"
      }
    },
    {
      "cell_type": "code",
      "source": [
        "years_list = [2000, 2001, 2002, 2003, 2004, 2005]\n"
      ],
      "metadata": {
        "id": "hr6A2PL7yuCU"
      },
      "execution_count": 2,
      "outputs": []
    },
    {
      "cell_type": "code",
      "source": [
        "print(years_list[3])\n"
      ],
      "metadata": {
        "colab": {
          "base_uri": "https://localhost:8080/"
        },
        "id": "vTK9z1cEy1yl",
        "outputId": "7bd24853-67be-4fbf-a4cb-7b2793f9b409"
      },
      "execution_count": 3,
      "outputs": [
        {
          "output_type": "stream",
          "name": "stdout",
          "text": [
            "2003\n"
          ]
        }
      ]
    },
    {
      "cell_type": "markdown",
      "source": [
        "3. Oldest Year\n",
        "Which year in years_list represents the most recent (your oldest age)?"
      ],
      "metadata": {
        "id": "BeG0M4EWzJP4"
      }
    },
    {
      "cell_type": "code",
      "source": [
        "years_list = [2000, 2001, 2002, 2003, 2004, 2005]\n",
        "print(years_list[-1])\n"
      ],
      "metadata": {
        "colab": {
          "base_uri": "https://localhost:8080/"
        },
        "id": "XqA1iVY2zSXd",
        "outputId": "60c8f3f6-4165-4609-f72c-ce481a98f2e5"
      },
      "execution_count": 4,
      "outputs": [
        {
          "output_type": "stream",
          "name": "stdout",
          "text": [
            "2005\n"
          ]
        }
      ]
    },
    {
      "cell_type": "markdown",
      "source": [
        "4. List of Things\n",
        "Create a list called things with the following items:\n",
        "[\"mozzarella\", \"cinderella\", \"salmonella\"]"
      ],
      "metadata": {
        "id": "4VFWHow8zlpM"
      }
    },
    {
      "cell_type": "code",
      "source": [
        "things = [\"mozzarella\", \"cinderella\", \"salmonella\"]\n",
        "print(things)\n"
      ],
      "metadata": {
        "colab": {
          "base_uri": "https://localhost:8080/"
        },
        "id": "tnc6EF2pzoBV",
        "outputId": "0496128f-3971-44f8-a509-2d9bc62a5ac4"
      },
      "execution_count": 5,
      "outputs": [
        {
          "output_type": "stream",
          "name": "stdout",
          "text": [
            "['mozzarella', 'cinderella', 'salmonella']\n"
          ]
        }
      ]
    },
    {
      "cell_type": "markdown",
      "source": [
        "5. Capitalization Check\n",
        "Capitalize the item that refers to a person in the things list.\n",
        "Print the list. Did the original list change?"
      ],
      "metadata": {
        "id": "5FTT8GBnzs_H"
      }
    },
    {
      "cell_type": "code",
      "source": [
        "things = [\"mozzarella\", \"cinderella\", \"salmonella\"]\n"
      ],
      "metadata": {
        "id": "7QKDe4zBz8T-"
      },
      "execution_count": 6,
      "outputs": []
    },
    {
      "cell_type": "code",
      "source": [
        "things[1] = things[1].capitalize()\n",
        "print(things)\n"
      ],
      "metadata": {
        "colab": {
          "base_uri": "https://localhost:8080/"
        },
        "id": "wWLzhV3qz-nM",
        "outputId": "f9c9733a-601f-4240-c798-591c3471d63e"
      },
      "execution_count": 7,
      "outputs": [
        {
          "output_type": "stream",
          "name": "stdout",
          "text": [
            "['mozzarella', 'Cinderella', 'salmonella']\n"
          ]
        }
      ]
    },
    {
      "cell_type": "markdown",
      "source": [
        "6. Surprise List\n",
        "Create a list called surprise_list with these values:\n",
        "[\"Groucho\", \"Chico\", \"Harpo\"]"
      ],
      "metadata": {
        "id": "-XFQkqWF0D_F"
      }
    },
    {
      "cell_type": "code",
      "source": [
        "surprise_list = [\"Groucho\", \"Chico\", \"Harpo\"]\n",
        "print(surprise_list)\n"
      ],
      "metadata": {
        "colab": {
          "base_uri": "https://localhost:8080/"
        },
        "id": "E8ypLa2Y0KKt",
        "outputId": "82909452-8474-4456-8cce-af70f7ae0d76"
      },
      "execution_count": 8,
      "outputs": [
        {
          "output_type": "stream",
          "name": "stdout",
          "text": [
            "['Groucho', 'Chico', 'Harpo']\n"
          ]
        }
      ]
    },
    {
      "cell_type": "markdown",
      "source": [
        "7. String Transformation\n",
        "Take the last item in surprise_list:\n",
        "\n",
        "• Lowercase it\n",
        "• Reverse it\n",
        "• Capitalize the result\n",
        "Then print it."
      ],
      "metadata": {
        "id": "y8bLDeOJ0XX8"
      }
    },
    {
      "cell_type": "code",
      "source": [
        "surprise_list = [\"Groucho\", \"Chico\", \"Harpo\"]\n",
        "\n",
        "# Step-by-step transformation\n",
        "last_item = surprise_list[-1].lower()      # 'harpo'\n",
        "reversed_item = last_item[::-1]            # 'oprah'\n",
        "final_result = reversed_item.capitalize()  # 'Oprah'\n",
        "\n",
        "print(final_result)\n"
      ],
      "metadata": {
        "colab": {
          "base_uri": "https://localhost:8080/"
        },
        "id": "zZHLtSvU0c9-",
        "outputId": "7c1036fd-fe53-4c0d-bf59-66267a5617bb"
      },
      "execution_count": 9,
      "outputs": [
        {
          "output_type": "stream",
          "name": "stdout",
          "text": [
            "Oprah\n"
          ]
        }
      ]
    },
    {
      "cell_type": "markdown",
      "source": [
        "8. English-to-French Dictionary\n",
        "Create a dictionary e2f that maps these:\n",
        "• dog → chien\n",
        "• cat → chat\n",
        "• walrus → morse\n",
        "Print the dictionary."
      ],
      "metadata": {
        "id": "9OvqGyxs0kZd"
      }
    },
    {
      "cell_type": "code",
      "source": [
        "e2f = {\n",
        "    \"dog\": \"chien\",\n",
        "    \"cat\": \"chat\",\n",
        "    \"walrus\": \"morse\"\n",
        "}\n",
        "\n",
        "print(e2f)\n"
      ],
      "metadata": {
        "colab": {
          "base_uri": "https://localhost:8080/"
        },
        "id": "k4pgLBoa0oyV",
        "outputId": "e5bcccfb-7b21-4303-93ad-f6757cb9db93"
      },
      "execution_count": 10,
      "outputs": [
        {
          "output_type": "stream",
          "name": "stdout",
          "text": [
            "{'dog': 'chien', 'cat': 'chat', 'walrus': 'morse'}\n"
          ]
        }
      ]
    },
    {
      "cell_type": "markdown",
      "source": [
        "9. Translate 'walrus' to French\n",
        "Use e2f to print the French word for “walrus.”"
      ],
      "metadata": {
        "id": "sgGid9YM0s31"
      }
    },
    {
      "cell_type": "code",
      "source": [
        "e2f = {\n",
        "    \"dog\": \"chien\",\n",
        "    \"cat\": \"chat\",\n",
        "    \"walrus\": \"morse\"\n",
        "}\n",
        "\n",
        "print(e2f[\"walrus\"])\n"
      ],
      "metadata": {
        "colab": {
          "base_uri": "https://localhost:8080/"
        },
        "id": "GW7FbPlo0z9E",
        "outputId": "d7bdff67-baba-469c-d844-e34acac0eaf8"
      },
      "execution_count": 11,
      "outputs": [
        {
          "output_type": "stream",
          "name": "stdout",
          "text": [
            "morse\n"
          ]
        }
      ]
    },
    {
      "cell_type": "markdown",
      "source": [
        "10. Reverse Dictionary\n",
        "Create a reverse dictionary f2e from e2f using the .items() method.\n",
        "Print f2e."
      ],
      "metadata": {
        "id": "Vo--XMIq0-k8"
      }
    },
    {
      "cell_type": "code",
      "source": [
        "e2f = {\n",
        "    \"dog\": \"chien\",\n",
        "    \"cat\": \"chat\",\n",
        "    \"walrus\": \"morse\"\n",
        "}\n",
        "\n",
        "# Reverse the dictionary\n",
        "f2e = {french: english for english, french in e2f.items()}\n",
        "\n",
        "print(f2e)\n"
      ],
      "metadata": {
        "colab": {
          "base_uri": "https://localhost:8080/"
        },
        "id": "WSPLfftA0_3l",
        "outputId": "8f0b0f73-b8f8-4ee8-81d6-7ec33d9b58be"
      },
      "execution_count": 12,
      "outputs": [
        {
          "output_type": "stream",
          "name": "stdout",
          "text": [
            "{'chien': 'dog', 'chat': 'cat', 'morse': 'walrus'}\n"
          ]
        }
      ]
    },
    {
      "cell_type": "markdown",
      "source": [
        "11. Translate 'chien' to English\n",
        "Use f2e to print the English word for “chien.”"
      ],
      "metadata": {
        "id": "0LodnOQs1Jdl"
      }
    },
    {
      "cell_type": "code",
      "source": [
        "f2e = {\n",
        "    \"chien\": \"dog\",\n",
        "    \"chat\": \"cat\",\n",
        "    \"morse\": \"walrus\"\n",
        "}\n",
        "\n",
        "print(f2e[\"chien\"])\n"
      ],
      "metadata": {
        "colab": {
          "base_uri": "https://localhost:8080/"
        },
        "id": "ExaMqGdy1PEk",
        "outputId": "f07a62d7-884b-4beb-9272-abdc2b02153b"
      },
      "execution_count": 13,
      "outputs": [
        {
          "output_type": "stream",
          "name": "stdout",
          "text": [
            "dog\n"
          ]
        }
      ]
    },
    {
      "cell_type": "markdown",
      "source": [
        "12. Get All English Words\n",
        "Print the set of all English words (the keys from e2f)."
      ],
      "metadata": {
        "id": "LJMLyUH11RWt"
      }
    },
    {
      "cell_type": "code",
      "source": [
        "e2f = {\n",
        "    \"dog\": \"chien\",\n",
        "    \"cat\": \"chat\",\n",
        "    \"walrus\": \"morse\"\n",
        "}\n",
        "\n",
        "english_words = set(e2f.keys())\n",
        "print(english_words)\n"
      ],
      "metadata": {
        "colab": {
          "base_uri": "https://localhost:8080/"
        },
        "id": "iPBPNulU1V3t",
        "outputId": "882590f4-25fa-4b43-c7a7-cc45d97779db"
      },
      "execution_count": 14,
      "outputs": [
        {
          "output_type": "stream",
          "name": "stdout",
          "text": [
            "{'walrus', 'dog', 'cat'}\n"
          ]
        }
      ]
    },
    {
      "cell_type": "markdown",
      "source": [
        "13. Create a Nested Dictionary (life)\n",
        "Create a dictionary life structured like this:\n",
        "{\n",
        "\n",
        "'animals': {\n",
        "'cats': ['Henri', 'Grumpy', 'Lucy'],\n",
        "'octopi': {},\n",
        "'emus': {}\n",
        "},\n",
        "'plants': {},\n",
        "'other': {}\n",
        "}"
      ],
      "metadata": {
        "id": "rf21STfF1icu"
      }
    },
    {
      "cell_type": "code",
      "source": [
        "life = {\n",
        "    'animals': {\n",
        "        'cats': ['Henri', 'Grumpy', 'Lucy'],\n",
        "        'octopi': {},\n",
        "        'emus': {}\n",
        "    },\n",
        "    'plants': {},\n",
        "    'other': {}\n",
        "}\n",
        "\n",
        "print(life)\n"
      ],
      "metadata": {
        "colab": {
          "base_uri": "https://localhost:8080/"
        },
        "id": "_fLlYdvB1n78",
        "outputId": "6d0c92e1-06df-4b76-9d2e-42b5b0a6f617"
      },
      "execution_count": 15,
      "outputs": [
        {
          "output_type": "stream",
          "name": "stdout",
          "text": [
            "{'animals': {'cats': ['Henri', 'Grumpy', 'Lucy'], 'octopi': {}, 'emus': {}}, 'plants': {}, 'other': {}}\n"
          ]
        }
      ]
    },
    {
      "cell_type": "markdown",
      "source": [
        "14. Top-Level Keys\n",
        "Print the top-level keys of life."
      ],
      "metadata": {
        "id": "MU-G8sfA1wQl"
      }
    },
    {
      "cell_type": "code",
      "source": [
        "print(life.keys())\n"
      ],
      "metadata": {
        "colab": {
          "base_uri": "https://localhost:8080/"
        },
        "id": "RtToVUXt1v7u",
        "outputId": "1329ab31-ee0b-4b7e-cc2f-2e9a9cc23ab0"
      },
      "execution_count": 16,
      "outputs": [
        {
          "output_type": "stream",
          "name": "stdout",
          "text": [
            "dict_keys(['animals', 'plants', 'other'])\n"
          ]
        }
      ]
    },
    {
      "cell_type": "code",
      "source": [
        "print(list(life.keys()))\n"
      ],
      "metadata": {
        "id": "Rwz5wF_N169s",
        "outputId": "ca3936af-7a5a-4b48-ce0f-e5b1cdc6e2e5",
        "colab": {
          "base_uri": "https://localhost:8080/"
        }
      },
      "execution_count": 17,
      "outputs": [
        {
          "output_type": "stream",
          "name": "stdout",
          "text": [
            "['animals', 'plants', 'other']\n"
          ]
        }
      ]
    },
    {
      "cell_type": "markdown",
      "source": [
        "15. Animal Categories\n",
        "Print the keys inside life['animals']."
      ],
      "metadata": {
        "id": "Cee-6x0BX4l0"
      }
    },
    {
      "cell_type": "markdown",
      "source": [],
      "metadata": {
        "id": "jL62WBLFX4jr"
      }
    },
    {
      "cell_type": "code",
      "source": [
        "life = {\n",
        "    'animals': {\n",
        "        'cats': ['Henri', 'Grumpy', 'Lucy'],\n",
        "        'octopi': {},\n",
        "        'emus': {}\n",
        "    },\n",
        "    'plants': {},\n",
        "    'other': {}\n",
        "}\n",
        "\n",
        "# Print the keys inside life['animals']\n",
        "print(life['animals'].keys())\n"
      ],
      "metadata": {
        "colab": {
          "base_uri": "https://localhost:8080/"
        },
        "id": "jkCrZfx4X76D",
        "outputId": "9741859d-7d93-4d34-aecf-978246b54e4c"
      },
      "execution_count": 18,
      "outputs": [
        {
          "output_type": "stream",
          "name": "stdout",
          "text": [
            "dict_keys(['cats', 'octopi', 'emus'])\n"
          ]
        }
      ]
    },
    {
      "cell_type": "markdown",
      "source": [
        "16. List of Cat Names\n",
        "Print the list of cat names stored in life['animals']['cats']."
      ],
      "metadata": {
        "id": "L7TjDLIvYOHM"
      }
    },
    {
      "cell_type": "code",
      "source": [
        "print(life['animals']['cats'])\n"
      ],
      "metadata": {
        "colab": {
          "base_uri": "https://localhost:8080/"
        },
        "id": "Ijlqrs1kYPB1",
        "outputId": "4d80f458-4deb-4e54-eb0b-e1ad8a348108"
      },
      "execution_count": 19,
      "outputs": [
        {
          "output_type": "stream",
          "name": "stdout",
          "text": [
            "['Henri', 'Grumpy', 'Lucy']\n"
          ]
        }
      ]
    },
    {
      "cell_type": "code",
      "source": [],
      "metadata": {
        "id": "R2qEtf4nYPOB"
      },
      "execution_count": null,
      "outputs": []
    },
    {
      "cell_type": "code",
      "source": [],
      "metadata": {
        "id": "laFCby6DYPMG"
      },
      "execution_count": null,
      "outputs": []
    },
    {
      "cell_type": "code",
      "source": [],
      "metadata": {
        "id": "jcDr5oUJYPEb"
      },
      "execution_count": null,
      "outputs": []
    }
  ]
}