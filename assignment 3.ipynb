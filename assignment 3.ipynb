{
 "cells": [
  {
   "cell_type": "raw",
   "id": "37d18510-3bb3-475b-94d5-9bb7c0fc6057",
   "metadata": {},
   "source": [
    "Question 1:\n",
    "Create a variable x with the value 15 . Perform floored division by 4 and\n",
    "print the result. What is the difference between floored division and normal\n",
    "division?"
   ]
  },
  {
   "cell_type": "code",
   "execution_count": 12,
   "id": "10ff97bf-d009-4074-8dc3-20fb2a256263",
   "metadata": {},
   "outputs": [
    {
     "name": "stdout",
     "output_type": "stream",
     "text": [
      "Floored division: 3\n"
     ]
    }
   ],
   "source": [
    "x = 15\n",
    "result = x // 4  # Floored division\n",
    "print(\"Floored division:\", result)"
   ]
  },
  {
   "cell_type": "raw",
   "id": "1f7d4e03-eb0f-438f-a92d-c4db5a448b68",
   "metadata": {},
   "source": [
    "2. Question 2:\n",
    "Write a program to calculate 8 ** 2 and 16 ** 0.5 . Print both results and\n",
    "describe what each represents."
   ]
  },
  {
   "cell_type": "code",
   "execution_count": 13,
   "id": "5365d7e7-5334-4141-9bc1-8196c779b3ad",
   "metadata": {},
   "outputs": [
    {
     "name": "stdout",
     "output_type": "stream",
     "text": [
      "8 ** 2 = 64\n",
      "16 ** 0.5 = 4.0\n"
     ]
    }
   ],
   "source": [
    "result1 = 8 ** 2       # 8 squared\n",
    "result2 = 16 ** 0.5    # Square root of 16\n",
    "print(\"8 ** 2 =\", result1)\n",
    "print(\"16 ** 0.5 =\", result2)"
   ]
  },
  {
   "cell_type": "raw",
   "id": "6f0de4da-4c79-4906-8071-b2f1667e51bb",
   "metadata": {},
   "source": [
    "3. Question 3:\n",
    "Use arithmetic operators to solve the following expression: 20 - 5 * 3 + 8 /\n",
    "4 . Use parentheses to make sure the addition happens before\n",
    "multiplication. Print the output."
   ]
  },
  {
   "cell_type": "code",
   "execution_count": 14,
   "id": "b90d8dce-ede9-4a5d-9022-12f5ef8dee96",
   "metadata": {},
   "outputs": [
    {
     "name": "stdout",
     "output_type": "stream",
     "text": [
      "Result: 10.25\n"
     ]
    }
   ],
   "source": [
    "result = 20 - (5 + 8) * 3 / 4  # As per question meaning\n",
    "print(\"Result:\", result)"
   ]
  },
  {
   "cell_type": "raw",
   "id": "d65ce8d0-476f-4073-bdf4-0334a460d41a",
   "metadata": {},
   "source": [
    "4. Question 4:\n",
    "Assign the value 7 to a variable num . Convert it to a float and print the\n",
    "result. What is the difference between 7 and 7.0 ?"
   ]
  },
  {
   "cell_type": "code",
   "execution_count": 15,
   "id": "d8e315e1-517c-4af1-b56b-80c36609dbc3",
   "metadata": {},
   "outputs": [
    {
     "name": "stdout",
     "output_type": "stream",
     "text": [
      "Float version: 7.0\n"
     ]
    }
   ],
   "source": [
    "num = 7\n",
    "num_float = float(num)\n",
    "print(\"Float version:\", num_float)"
   ]
  },
  {
   "cell_type": "raw",
   "id": "3a59d574-ceef-40d0-9662-251401805e13",
   "metadata": {},
   "source": [
    "5. Question 5:\n",
    "Use a comparison operator to check if 100 is greater than 50 . Print the\n",
    "result and indicate what type of value this is."
   ]
  },
  {
   "cell_type": "code",
   "execution_count": 16,
   "id": "00451362-5c08-4e80-817a-80bcedcf203e",
   "metadata": {},
   "outputs": [
    {
     "name": "stdout",
     "output_type": "stream",
     "text": [
      "Is 100 > 50: True\n"
     ]
    }
   ],
   "source": [
    "print(\"Is 100 > 50:\", 100 > 50)"
   ]
  },
  {
   "cell_type": "raw",
   "id": "b815e2b5-dba1-4b0b-87bd-03b058cd6d57",
   "metadata": {},
   "source": [
    "Question 6:\n",
    "Assign True to a variable is_sunny and False to is_weekend . Use logical\n",
    "operators to check if it is sunny and the weekend ( is_sunny and is_weekend ).\n",
    "Print the result."
   ]
  },
  {
   "cell_type": "code",
   "execution_count": 17,
   "id": "b19f8aea-3087-4e4d-9f08-cb313975224c",
   "metadata": {},
   "outputs": [
    {
     "name": "stdout",
     "output_type": "stream",
     "text": [
      "Is sunny and weekend? False\n"
     ]
    }
   ],
   "source": [
    "is_sunny = True\n",
    "is_weekend = False\n",
    "result = is_sunny and is_weekend\n",
    "print(\"Is sunny and weekend?\", result)"
   ]
  },
  {
   "cell_type": "raw",
   "id": "7f2703e2-2180-4aa9-9971-5a94957bf139",
   "metadata": {},
   "source": [
    "Question 7:\n",
    "Create a variable password and set it to \"my_password123\" . Ask the user to input\n",
    "a password and print True if the input matches the value of password ,\n",
    "otherwise print False ."
   ]
  },
  {
   "cell_type": "code",
   "execution_count": 18,
   "id": "d52129d4-3017-4a74-8af0-ac27fb0f59ae",
   "metadata": {},
   "outputs": [
    {
     "name": "stdin",
     "output_type": "stream",
     "text": [
      "Enter your password:  my_password123\n"
     ]
    },
    {
     "name": "stdout",
     "output_type": "stream",
     "text": [
      "Access Granted: True\n"
     ]
    }
   ],
   "source": [
    "password = \"my_password123\"\n",
    "user_input = input(\"Enter your password: \")\n",
    "print(\"Access Granted:\", user_input == password)"
   ]
  },
  {
   "cell_type": "raw",
   "id": "2233ead8-7f8b-496e-abbe-07aa9c5bd24a",
   "metadata": {},
   "source": [
    "Question 8:\n",
    "Assign the value 50 to a variable marks . Increment the value of marks by 5\n",
    "using the += operator, then print the new value."
   ]
  },
  {
   "cell_type": "code",
   "execution_count": 19,
   "id": "05a44a9b-1fd9-4d7f-b48b-662b9e835b0c",
   "metadata": {},
   "outputs": [
    {
     "name": "stdout",
     "output_type": "stream",
     "text": [
      "Updated marks: 55\n"
     ]
    }
   ],
   "source": [
    "marks = 50\n",
    "marks += 5\n",
    "print(\"Updated marks:\", marks)"
   ]
  },
  {
   "cell_type": "raw",
   "id": "6c1862fb-0c35-4469-a753-232bc80e09a9",
   "metadata": {},
   "source": [
    "Question 9:\n",
    "Write a program to check if the value of a = 0 and b = 10 satisfies a or b .\n",
    "Print the output and explain why it gives that result."
   ]
  },
  {
   "cell_type": "code",
   "execution_count": 20,
   "id": "6db533cb-e0a8-44fb-8d61-92496ed32abc",
   "metadata": {},
   "outputs": [
    {
     "name": "stdout",
     "output_type": "stream",
     "text": [
      "Result of a or b: 10\n"
     ]
    }
   ],
   "source": [
    "a = 0\n",
    "b = 10\n",
    "result = a or b\n",
    "print(\"Result of a or b:\", result)"
   ]
  },
  {
   "cell_type": "raw",
   "id": "80a2d2d4-bd61-4577-bf7e-cbb60d015d3f",
   "metadata": {},
   "source": [
    "10. Question 10:\n",
    "Use not to negate the value of False and print the result. Explain what the\n",
    "not operator does in Python."
   ]
  },
  {
   "cell_type": "code",
   "execution_count": 21,
   "id": "b53d6bba-e38d-47fb-9031-cd9504028612",
   "metadata": {},
   "outputs": [
    {
     "name": "stdout",
     "output_type": "stream",
     "text": [
      "Negation of False: True\n"
     ]
    }
   ],
   "source": [
    "print(\"Negation of False:\", not False)"
   ]
  }
 ],
 "metadata": {
  "kernelspec": {
   "display_name": "Python 3 (ipykernel)",
   "language": "python",
   "name": "python3"
  },
  "language_info": {
   "codemirror_mode": {
    "name": "ipython",
    "version": 3
   },
   "file_extension": ".py",
   "mimetype": "text/x-python",
   "name": "python",
   "nbconvert_exporter": "python",
   "pygments_lexer": "ipython3",
   "version": "3.12.7"
  }
 },
 "nbformat": 4,
 "nbformat_minor": 5
}
