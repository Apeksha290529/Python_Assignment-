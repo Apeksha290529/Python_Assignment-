{
  "nbformat": 4,
  "nbformat_minor": 0,
  "metadata": {
    "colab": {
      "provenance": []
    },
    "kernelspec": {
      "name": "python3",
      "display_name": "Python 3"
    },
    "language_info": {
      "name": "python"
    }
  },
  "cells": [
    {
      "cell_type": "markdown",
      "source": [
        "1. Conditional Logic\n",
        "Write a function that checks a number against 7 and prints:\n",
        "• 'too low' if less than 7,\n",
        "• 'just right' if equal to 7,\n",
        "• 'too high' if greater than 7.\n",
        "Call the function with the values 7, 5, and 15."
      ],
      "metadata": {
        "id": "tOgWqEhUvQdA"
      }
    },
    {
      "cell_type": "code",
      "execution_count": 1,
      "metadata": {
        "id": "UND5FRBuvBnT"
      },
      "outputs": [],
      "source": [
        "def check_number(n):\n",
        "    if n < 7:\n",
        "        print(\"too low\")\n",
        "    elif n == 7:\n",
        "        print(\"just right\")\n",
        "    else:\n",
        "        print(\"too high\")\n"
      ]
    },
    {
      "cell_type": "code",
      "source": [
        "check_number(7)\n",
        "check_number(5)\n",
        "check_number(15)\n"
      ],
      "metadata": {
        "colab": {
          "base_uri": "https://localhost:8080/"
        },
        "id": "Tq_y-xmXvaSf",
        "outputId": "36ac8125-b682-47b2-e1e3-e71a8a361117"
      },
      "execution_count": 2,
      "outputs": [
        {
          "output_type": "stream",
          "name": "stdout",
          "text": [
            "just right\n",
            "too low\n",
            "too high\n"
          ]
        }
      ]
    },
    {
      "cell_type": "markdown",
      "source": [
        "2. While Loop Comparison\n",
        "Assign:\n",
        "guess_me = 7\n",
        "start = 1\n",
        "Write a while True: loop that compares start with guess_me:\n",
        "• Print 'too low' if start < guess_me\n",
        "• Print 'found it' and break if equal\n",
        "• Print 'too high' and break if greater\n",
        "Increment start at the end of each loop cycle."
      ],
      "metadata": {
        "id": "ooq53L9rviE2"
      }
    },
    {
      "cell_type": "code",
      "source": [
        "guess_me = 7\n",
        "start = 1\n",
        "\n",
        "while True:\n",
        "    if start < guess_me:\n",
        "        print(\"too low\")\n",
        "    elif start == guess_me:\n",
        "        print(\"found it\")\n",
        "        break\n",
        "    else:\n",
        "        print(\"too high\")\n",
        "        break\n",
        "    start += 1\n"
      ],
      "metadata": {
        "colab": {
          "base_uri": "https://localhost:8080/"
        },
        "id": "SAVB0UzivmhN",
        "outputId": "49a425e3-3a07-41bd-8b96-eb38a5f94ede"
      },
      "execution_count": 3,
      "outputs": [
        {
          "output_type": "stream",
          "name": "stdout",
          "text": [
            "too low\n",
            "too low\n",
            "too low\n",
            "too low\n",
            "too low\n",
            "too low\n",
            "found it\n"
          ]
        }
      ]
    },
    {
      "cell_type": "markdown",
      "source": [
        "3. Loop Through a List\n",
        "Use a for loop to print each element in this list:\n",
        "[3, 2, 1, 0]"
      ],
      "metadata": {
        "id": "HUhwjDZqvti9"
      }
    },
    {
      "cell_type": "code",
      "source": [
        "for num in [3, 2, 1, 0]:\n",
        "    print(num)\n"
      ],
      "metadata": {
        "colab": {
          "base_uri": "https://localhost:8080/"
        },
        "id": "OCNT9IfXvvEV",
        "outputId": "67e95496-4926-4a14-e3d4-3deee73ba222"
      },
      "execution_count": 4,
      "outputs": [
        {
          "output_type": "stream",
          "name": "stdout",
          "text": [
            "3\n",
            "2\n",
            "1\n",
            "0\n"
          ]
        }
      ]
    },
    {
      "cell_type": "markdown",
      "source": [
        "4. List Comprehension\n",
        "Use a list comprehension to generate a list of even numbers from 0 to 10."
      ],
      "metadata": {
        "id": "hNR3cDDAwAmu"
      }
    },
    {
      "cell_type": "code",
      "source": [
        "even_numbers = [x for x in range(0, 11) if x % 2 == 0]\n",
        "print(even_numbers)\n"
      ],
      "metadata": {
        "colab": {
          "base_uri": "https://localhost:8080/"
        },
        "id": "tHBke399wEr1",
        "outputId": "1a3d3ab0-7417-478a-a6b7-a061d9e528d1"
      },
      "execution_count": 5,
      "outputs": [
        {
          "output_type": "stream",
          "name": "stdout",
          "text": [
            "[0, 2, 4, 6, 8, 10]\n"
          ]
        }
      ]
    },
    {
      "cell_type": "markdown",
      "source": [
        "5. Dictionary Comprehension\n",
        "Use a dictionary comprehension (or another method) to create a dictionary called squares\n",
        "where:\n",
        "\n",
        "• The keys are numbers from 0 to 9\n",
        "• The values are the squares of the keys"
      ],
      "metadata": {
        "id": "XKIyEjtGwLLt"
      }
    },
    {
      "cell_type": "code",
      "source": [
        "squares = {x: x**2 for x in range(10)}\n",
        "print(squares)\n"
      ],
      "metadata": {
        "colab": {
          "base_uri": "https://localhost:8080/"
        },
        "id": "isTmnMkAwMRO",
        "outputId": "b754cf56-461c-4ed4-fa88-21cb8cb59ee7"
      },
      "execution_count": 6,
      "outputs": [
        {
          "output_type": "stream",
          "name": "stdout",
          "text": [
            "{0: 0, 1: 1, 2: 4, 3: 9, 4: 16, 5: 25, 6: 36, 7: 49, 8: 64, 9: 81}\n"
          ]
        }
      ]
    },
    {
      "cell_type": "markdown",
      "source": [
        "6. Set Comprehension\n",
        "Create a set odd that contains all the odd numbers from 0 to 9 using a set comprehension."
      ],
      "metadata": {
        "id": "dEaBOr-rwSZk"
      }
    },
    {
      "cell_type": "code",
      "source": [
        "odd = {x for x in range(10) if x % 2 != 0}\n",
        "print(odd)\n"
      ],
      "metadata": {
        "colab": {
          "base_uri": "https://localhost:8080/"
        },
        "id": "bEX4k04_wTPN",
        "outputId": "3fc33311-e120-4c4c-a396-5536449b28a5"
      },
      "execution_count": 7,
      "outputs": [
        {
          "output_type": "stream",
          "name": "stdout",
          "text": [
            "{1, 3, 5, 7, 9}\n"
          ]
        }
      ]
    },
    {
      "cell_type": "markdown",
      "source": [],
      "metadata": {
        "id": "6pnVM_H3wdMf"
      }
    },
    {
      "cell_type": "markdown",
      "source": [
        "7. Generator Expression\n",
        "Use a generator expression to create strings like 'Got_0', 'Got_1', ..., 'Got_9'.\n",
        "Iterate over the generator using a for loop and print the results in one line separated by\n",
        "spaces."
      ],
      "metadata": {
        "id": "zV9Bn4T8wc21"
      }
    },
    {
      "cell_type": "code",
      "source": [
        "gen = (f\"Got_{x}\" for x in range(10))\n",
        "\n",
        "for item in gen:\n",
        "    print(item, end=' ')\n"
      ],
      "metadata": {
        "colab": {
          "base_uri": "https://localhost:8080/"
        },
        "id": "jVWr_0qXwef9",
        "outputId": "6e6c189e-7cda-4efa-b76a-97a9d4bfea50"
      },
      "execution_count": 8,
      "outputs": [
        {
          "output_type": "stream",
          "name": "stdout",
          "text": [
            "Got_0 Got_1 Got_2 Got_3 Got_4 Got_5 Got_6 Got_7 Got_8 Got_9 "
          ]
        }
      ]
    },
    {
      "cell_type": "markdown",
      "source": [
        "8. Define a Simple Function\n",
        "Define a function good() that returns this list:\n",
        "['Harry', 'Ron', 'Hermione']"
      ],
      "metadata": {
        "id": "LPiFhv7nwmdF"
      }
    },
    {
      "cell_type": "code",
      "source": [
        "def good():\n",
        "    return ['Harry', 'Ron', 'Hermione']\n"
      ],
      "metadata": {
        "id": "q1wbq40awnct"
      },
      "execution_count": 9,
      "outputs": []
    },
    {
      "cell_type": "code",
      "source": [
        "print(good())\n"
      ],
      "metadata": {
        "colab": {
          "base_uri": "https://localhost:8080/"
        },
        "id": "t0X_UxsNw16j",
        "outputId": "c2861da2-feb5-4518-9e5a-4e1a9e889631"
      },
      "execution_count": 10,
      "outputs": [
        {
          "output_type": "stream",
          "name": "stdout",
          "text": [
            "['Harry', 'Ron', 'Hermione']\n"
          ]
        }
      ]
    },
    {
      "cell_type": "markdown",
      "source": [
        "9. Generator Function and Indexing\n",
        "Define a generator function get_odds() that yields odd numbers from 0 to 9.\n",
        "Use a loop or generator handling to find and print the third odd number generated."
      ],
      "metadata": {
        "id": "3a0oKwSNw9jq"
      }
    },
    {
      "cell_type": "code",
      "source": [
        "def get_odds():\n",
        "    for num in range(10):\n",
        "        if num % 2 != 0:\n",
        "            yield num\n"
      ],
      "metadata": {
        "id": "LS7UrFTnw_oa"
      },
      "execution_count": 11,
      "outputs": []
    },
    {
      "cell_type": "code",
      "source": [
        "count = 0\n",
        "for odd in get_odds():\n",
        "    count += 1\n",
        "    if count == 3:\n",
        "        print(odd)\n",
        "        break\n"
      ],
      "metadata": {
        "colab": {
          "base_uri": "https://localhost:8080/"
        },
        "id": "rwUGC3KuxLlN",
        "outputId": "f091b65c-ba29-42ba-9011-f0006594049d"
      },
      "execution_count": 12,
      "outputs": [
        {
          "output_type": "stream",
          "name": "stdout",
          "text": [
            "5\n"
          ]
        }
      ]
    },
    {
      "cell_type": "markdown",
      "source": [
        "10. Use zip() to Build a Dictionary\n",
        "Given:\n",
        "titles = ['Creature of Habit', 'Crewel Fate']\n",
        "plots = ['A nun turns into a monster', 'A haunted yarn shop']\n",
        "Use zip() to build and print a dictionary called movies that pairs each title with its plot."
      ],
      "metadata": {
        "id": "phHi-5qaxRM-"
      }
    },
    {
      "cell_type": "code",
      "source": [
        "titles = ['Creature of Habit', 'Crewel Fate']\n",
        "plots = ['A nun turns into a monster', 'A haunted yarn shop']\n",
        "\n",
        "movies = dict(zip(titles, plots))\n",
        "print(movies)\n"
      ],
      "metadata": {
        "colab": {
          "base_uri": "https://localhost:8080/"
        },
        "id": "zcjcRbm_xzmG",
        "outputId": "ec5e8f05-01b4-4df9-b87a-15bb2abb7e81"
      },
      "execution_count": 13,
      "outputs": [
        {
          "output_type": "stream",
          "name": "stdout",
          "text": [
            "{'Creature of Habit': 'A nun turns into a monster', 'Crewel Fate': 'A haunted yarn shop'}\n"
          ]
        }
      ]
    }
  ]
}