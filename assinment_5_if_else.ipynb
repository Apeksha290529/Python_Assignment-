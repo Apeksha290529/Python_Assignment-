{
 "cells": [
  {
   "cell_type": "raw",
   "id": "946a23b9-543d-481d-a010-2de017dc0ef4",
   "metadata": {},
   "source": [
    "1. You are given 3 integer angles(in degrees) A, B and C of a triangle. You\n",
    "have to tell whether the triangle is valid or not.\n",
    "A triangle is valid if sum of its angles equals to 180."
   ]
  },
  {
   "cell_type": "code",
   "execution_count": 2,
   "id": "56a048f3-18b9-46f2-81ad-064e0b9a9fff",
   "metadata": {},
   "outputs": [
    {
     "name": "stdin",
     "output_type": "stream",
     "text": [
      "Enter angle A:  70\n",
      "Enter angle B:  90\n",
      "Enter angle C:  45\n"
     ]
    },
    {
     "name": "stdout",
     "output_type": "stream",
     "text": [
      "0\n"
     ]
    }
   ],
   "source": [
    "# Input: three angles\n",
    "A = int(input(\"Enter angle A: \"))\n",
    "B = int(input(\"Enter angle B: \"))\n",
    "C = int(input(\"Enter angle C: \"))\n",
    "\n",
    "# Check validity\n",
    "if A + B + C == 180:\n",
    "    print(\"1\")  # Triangle is valid\n",
    "else:\n",
    "    print(\"0\")  # Triangle is not valid"
   ]
  },
  {
   "cell_type": "raw",
   "id": "61a235a9-78d9-4509-b215-54c91066bb1f",
   "metadata": {},
   "source": [
    "2. Write a program to input two numbers(A & B) from user and print the\n",
    "maximum element among A & B.\n",
    "Problem Constraints\n",
    "1 <= A <= 1000000\n",
    "1 <= B <= 1000000"
   ]
  },
  {
   "cell_type": "code",
   "execution_count": 4,
   "id": "71eeec9f-dd09-4215-88ea-7b6263f7d988",
   "metadata": {},
   "outputs": [
    {
     "name": "stdin",
     "output_type": "stream",
     "text": [
      "Enter number A:  500000000\n",
      "Enter number B:  340876432246\n"
     ]
    }
   ],
   "source": [
    "A = int(input(\"Enter number A: \"))\n",
    "B = int(input(\"Enter number B: \"))\n",
    "\n",
    "# Check constraints and print maximum\n",
    "if 1 <= A <= 1000000 and 1 <= B <= 1000000:\n",
    "    print(max(A, B))"
   ]
  },
  {
   "cell_type": "raw",
   "id": "ba203558-42a8-423e-8e4f-aaae7178f24f",
   "metadata": {},
   "source": [
    "3. You are given the Cost Price C and Selling Price S of a Product. You have to\n",
    "tell whether there is a Profit or Loss. Also, calculate total profit or loss."
   ]
  },
  {
   "cell_type": "code",
   "execution_count": 5,
   "id": "5381f49f-0a4d-4bab-a8ea-2f7d09a81bba",
   "metadata": {},
   "outputs": [
    {
     "name": "stdin",
     "output_type": "stream",
     "text": [
      "Enter Cost Price:  788\n",
      "Enter Selling Price:  500\n"
     ]
    },
    {
     "name": "stdout",
     "output_type": "stream",
     "text": [
      "-1\n",
      "288\n"
     ]
    }
   ],
   "source": [
    "C = int(input(\"Enter Cost Price: \"))\n",
    "S = int(input(\"Enter Selling Price: \"))\n",
    "\n",
    "# Ensure C ≠ S and valid range\n",
    "if 1 <= C <= 10**9 and 1 <= S <= 10**9 and C != S:\n",
    "    Profit = S - C\n",
    "    if Profit > 0:\n",
    "        print(1)           # Profit\n",
    "        print(Profit)\n",
    "    else:\n",
    "        print(-1)          # Loss\n",
    "        print(-Profit)"
   ]
  },
  {
   "cell_type": "raw",
   "id": "71bc4eda-dab2-4cd2-9f73-d4456f0e15d8",
   "metadata": {},
   "source": [
    "4. Given the number N, Categorise the number according to following\n",
    "\n",
    "condition :1. Odd-Positive2. Odd-Negative3. Even-Positive4. Even-\n",
    "NegativeNote : Intention of problem is to teach you Nested If-Else, so try to\n",
    "\n",
    "solve this problem using nested if-else\n",
    "Problem Constraints\n",
    "10000 <= N <= 10000 except 0"
   ]
  },
  {
   "cell_type": "code",
   "execution_count": 6,
   "id": "83a7fb8d-fef7-492e-afb4-9d386b96fc36",
   "metadata": {},
   "outputs": [
    {
     "name": "stdin",
     "output_type": "stream",
     "text": [
      "Enter a number (≠ 0):  66778\n"
     ]
    }
   ],
   "source": [
    "N = int(input(\"Enter a number (≠ 0): \"))\n",
    "\n",
    "# Check constraints\n",
    "if -10000 <= N <= 10000 and N != 0:\n",
    "    if N < 0:\n",
    "        if N % 2 == 0:\n",
    "            print(\"Even-Negative\")\n",
    "        else:\n",
    "            print(\"Odd-Negative\")\n",
    "    else:\n",
    "        if N % 2 == 0:\n",
    "            print(\"Even-Positive\")\n",
    "        else:\n",
    "            print(\"Odd-Positive\")"
   ]
  }
 ],
 "metadata": {
  "kernelspec": {
   "display_name": "Python 3 (ipykernel)",
   "language": "python",
   "name": "python3"
  },
  "language_info": {
   "codemirror_mode": {
    "name": "ipython",
    "version": 3
   },
   "file_extension": ".py",
   "mimetype": "text/x-python",
   "name": "python",
   "nbconvert_exporter": "python",
   "pygments_lexer": "ipython3",
   "version": "3.12.7"
  }
 },
 "nbformat": 4,
 "nbformat_minor": 5
}
