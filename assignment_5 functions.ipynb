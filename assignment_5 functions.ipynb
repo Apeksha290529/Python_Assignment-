{
 "cells": [
  {
   "cell_type": "raw",
   "id": "f41eac6a-c4f3-4279-adb7-09c6d2cd0c0c",
   "metadata": {},
   "source": [
    "1. Given the temperature of a day in Degrees Celsius, convert this given\n",
    "temperature from Celsius to Fahrenheit. Complete the function to do so.\n",
    "Round the output up to 2 decimal places"
   ]
  },
  {
   "cell_type": "code",
   "execution_count": 19,
   "id": "c3ed6be7-7c21-4e57-9684-e8dcc8b0f589",
   "metadata": {},
   "outputs": [
    {
     "name": "stdout",
     "output_type": "stream",
     "text": [
      "98.6\n"
     ]
    }
   ],
   "source": [
    "def celsius_farhen(Celsius):\n",
    "    ans = (Celsius * 9/5) + 32\n",
    "    return round(ans, 2)\n",
    "\n",
    "# Example usage:\n",
    "print(celsius_farhen(37))  # Output: 98.6"
   ]
  },
  {
   "cell_type": "raw",
   "id": "8c9221c3-1612-46f2-ae5b-a52fd7107026",
   "metadata": {},
   "source": [
    "2. Write a program to calculate the total amount if the principal\n",
    "amount, simple interest rate per annum, and time in the number of days\n",
    "are given. The simple interest rate per annum is provided as a percentage.\n",
    "Assuming that there are 365 days in a year, print the total amount rounded\n",
    "up to 2 decimal places.\n",
    "Note 1: Use round(ans,2) to round up ans up to two decimals"
   ]
  },
  {
   "cell_type": "code",
   "execution_count": 20,
   "id": "f82055f7-a472-4b8b-b78e-066c3b2cdf70",
   "metadata": {},
   "outputs": [
    {
     "name": "stdout",
     "output_type": "stream",
     "text": [
      "10041.1\n"
     ]
    }
   ],
   "source": [
    "def simple_int(time, pa, ir):\n",
    "    ''' time: number of days, pa: principal amount, ir: annual interest rate (%) '''\n",
    "    interest = (pa * ir * time) / (365 * 100)\n",
    "    ans = pa + interest\n",
    "    return round(ans, 2)\n",
    "\n",
    "# Example usage:\n",
    "print(simple_int(30, 10000, 5))  # Output: 10041.1"
   ]
  },
  {
   "cell_type": "raw",
   "id": "70feac34-3d8c-4c16-99b0-da806bf3fb97",
   "metadata": {},
   "source": [
    "3. Write a program that takes the cost price of a vehicle as an argument and\n",
    "returns the road tax, that the vehicle owner has to pay according to the\n",
    "following criteria:"
   ]
  },
  {
   "cell_type": "code",
   "execution_count": 21,
   "id": "e3f6dfc1-7ef8-4014-a417-9f9faddeba1b",
   "metadata": {},
   "outputs": [
    {
     "name": "stdout",
     "output_type": "stream",
     "text": [
      "12750.0\n"
     ]
    }
   ],
   "source": [
    "def road_tax(price):\n",
    "    if price > 100000:\n",
    "        tax = 0.2 * price\n",
    "    elif 75000 < price <= 100000:\n",
    "        tax = 0.15 * price\n",
    "    elif 50000 < price <= 75000:\n",
    "        tax = 0.1 * price\n",
    "    else:\n",
    "        tax = 0.05 * price\n",
    "    return round(tax, 1)\n",
    "\n",
    "# Example usage:\n",
    "print(road_tax(85000))  # Output: 12750.0"
   ]
  },
  {
   "cell_type": "raw",
   "id": "9d820c1d-0bed-4ce4-b270-abbe68fe4f0f",
   "metadata": {},
   "source": [
    "4. You are given a positive integer A denoting the radius of a circle. You have\n",
    "to calculate the area of the circle. Note: The formula for the area of a circle\n",
    "is Area = πr2, where r is the circle's radius. You can use the value\n",
    "\n",
    "problems on functions 3\n",
    "\n",
    "of PI as 3.1416. Round up the final answer up to 2 decimal places. You can\n",
    "use round(area, 2) for rounding area to 2 decimal places"
   ]
  },
  {
   "cell_type": "code",
   "execution_count": 22,
   "id": "193a03ad-59fa-48a8-9a8a-24998fd4706a",
   "metadata": {},
   "outputs": [
    {
     "name": "stdout",
     "output_type": "stream",
     "text": [
      "78.54\n"
     ]
    }
   ],
   "source": [
    "import math\n",
    "\n",
    "def circle_area(radius):\n",
    "    area = math.pi * (radius ** 2)\n",
    "    return round(area, 2)\n",
    "\n",
    "# Example usage:\n",
    "print(circle_area(5))  # Output: 78.54"
   ]
  },
  {
   "cell_type": "raw",
   "id": "2f56c683-b989-4c0d-9c37-85e4d8f3d712",
   "metadata": {},
   "source": [
    "5. Given an integer n, write a program to return the sum of squares of first n\n",
    "natural numbers in integer format."
   ]
  },
  {
   "cell_type": "code",
   "execution_count": 23,
   "id": "69c7c501-6c12-4f64-9641-a27d62e15f3c",
   "metadata": {},
   "outputs": [
    {
     "name": "stdout",
     "output_type": "stream",
     "text": [
      "55\n"
     ]
    }
   ],
   "source": [
    "def sum_squares(n):\n",
    "    ans = (n * (n + 1) * (2 * n + 1)) // 6\n",
    "    return ans\n",
    "\n",
    "# Example usage:\n",
    "print(sum_squares(5))  # Output: 55"
   ]
  },
  {
   "cell_type": "raw",
   "id": "efb9b46b-9a16-497a-bca8-3b7f4afade8d",
   "metadata": {},
   "source": [
    "6. You are given a lowercase latin alphabetic character C. You have to tell\n",
    "whether it is a vowel or not.\n",
    "The characters 'a', 'e', 'i', 'o', and 'u' are called vowels."
   ]
  },
  {
   "cell_type": "code",
   "execution_count": 24,
   "id": "d788f90a-36fc-44d4-a803-7463f3af3374",
   "metadata": {},
   "outputs": [
    {
     "name": "stdout",
     "output_type": "stream",
     "text": [
      "1\n",
      "0\n"
     ]
    }
   ],
   "source": [
    "def isvowel(C):\n",
    "    vowel = \"aeiou\"\n",
    "    if C in vowel:\n",
    "        return 1\n",
    "    else:\n",
    "        return 0\n",
    "\n",
    "# Example usage:\n",
    "print(isvowel('a'))  # Output: 1\n",
    "print(isvowel('z'))  # Output: 0"
   ]
  },
  {
   "cell_type": "raw",
   "id": "e3886d72-4082-4b59-8f2e-90bdedd63cf8",
   "metadata": {},
   "source": [
    "7. Given the height (A) and weight (B) of a person as input in centimetres and\n",
    "kilograms.\n",
    "Find the BMI of that person and the classification of the user based on their\n",
    "BMI.\n",
    "1. Print Underweight if BMI < 18.5\n",
    "2. Print Normal if BMI lies in the range [18.5, 24.9]\n",
    "3. Print Overweight if BMI lies in the range (24.9, 29.9]\n",
    "4. Print Obese if BMI is greater than 29.9\n",
    "If x is the weight in kilograms and y is the height in metres.\n",
    "Then, BMI is calculated as x/(y*y)."
   ]
  },
  {
   "cell_type": "code",
   "execution_count": 25,
   "id": "1e990aae-caac-41ea-8e9a-5ddd4688d15a",
   "metadata": {},
   "outputs": [
    {
     "name": "stdin",
     "output_type": "stream",
     "text": [
      " 150\n",
      " 45\n"
     ]
    },
    {
     "name": "stdout",
     "output_type": "stream",
     "text": [
      "Normal\n",
      "20.0\n"
     ]
    }
   ],
   "source": [
    "def main(height_cm, weight):\n",
    "    height = height_cm / 100\n",
    "    BMI = weight / (height * height)\n",
    "    return BMI\n",
    "\n",
    "def classify(BMI):\n",
    "    if BMI < 18.5:\n",
    "        return \"Underweight\"\n",
    "    elif 18.5 <= BMI <= 24.9:\n",
    "        return \"Normal\"\n",
    "    elif 24.9 < BMI <= 29.9:\n",
    "        return \"Overweight\"\n",
    "    else:\n",
    "        return \"Obese\"\n",
    "\n",
    "# Input & Output section\n",
    "height_in_cm = int(input())\n",
    "weight_in_kg = int(input())\n",
    "\n",
    "BMI = main(height_in_cm, weight_in_kg)\n",
    "classification = classify(BMI)\n",
    "rounded_bmi = round(BMI, 1)\n",
    "\n",
    "print(classification)\n",
    "print(rounded_bmi)"
   ]
  }
 ],
 "metadata": {
  "kernelspec": {
   "display_name": "Python 3 (ipykernel)",
   "language": "python",
   "name": "python3"
  },
  "language_info": {
   "codemirror_mode": {
    "name": "ipython",
    "version": 3
   },
   "file_extension": ".py",
   "mimetype": "text/x-python",
   "name": "python",
   "nbconvert_exporter": "python",
   "pygments_lexer": "ipython3",
   "version": "3.12.7"
  }
 },
 "nbformat": 4,
 "nbformat_minor": 5
}
