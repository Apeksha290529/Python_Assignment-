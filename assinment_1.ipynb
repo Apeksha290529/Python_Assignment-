{
 "cells": [
  {
   "cell_type": "raw",
   "id": "3d9db94f-a5a7-44bf-925d-25188a7a4ec1",
   "metadata": {},
   "source": [
    "1. Question 1:\n",
    "Write a Python program to print your name and favourite colour on two\n",
    "separate lines."
   ]
  },
  {
   "cell_type": "code",
   "execution_count": 1,
   "id": "30783064-c2c3-4767-b343-bcdb9b483248",
   "metadata": {},
   "outputs": [
    {
     "name": "stdout",
     "output_type": "stream",
     "text": [
      "Apeksha\n",
      "Red\n"
     ]
    }
   ],
   "source": [
    "print(\"Apeksha\")\n",
    "print(\"Red\")"
   ]
  },
  {
   "cell_type": "raw",
   "id": "7303cf5a-f0c2-4637-9f71-3f14199c3f56",
   "metadata": {},
   "source": [
    "2. Question 2:\n",
    "Write a Python program that prints the result of adding 7 and 8."
   ]
  },
  {
   "cell_type": "code",
   "execution_count": 2,
   "id": "6f67478f-8152-4e0a-8743-2655cb9490ba",
   "metadata": {},
   "outputs": [
    {
     "name": "stdout",
     "output_type": "stream",
     "text": [
      "15\n"
     ]
    }
   ],
   "source": [
    "print(7 + 8)"
   ]
  },
  {
   "cell_type": "raw",
   "id": "06a0521c-9b2e-4d11-a695-5898a2f0e12f",
   "metadata": {},
   "source": [
    "3. Question 3:\n",
    "Use the print function to display the following text exactly as it is:\n",
    "Python is fun!\n",
    "Let's learn together."
   ]
  },
  {
   "cell_type": "code",
   "execution_count": 3,
   "id": "693dd639-7451-40a3-91a5-4d2fa3050686",
   "metadata": {},
   "outputs": [
    {
     "name": "stdout",
     "output_type": "stream",
     "text": [
      "Python is fun!\n",
      "Let's learn together.\n"
     ]
    }
   ],
   "source": [
    "print(\"Python is fun!\\nLet's learn together.\")\n"
   ]
  },
  {
   "cell_type": "raw",
   "id": "eb9afcce-759c-4b6e-8ea2-ff3656a20dcf",
   "metadata": {},
   "source": [
    "4. Question 4:\n",
    "Write a Python program to calculate and print the result of multiplying 6 by\n",
    "9."
   ]
  },
  {
   "cell_type": "code",
   "execution_count": 4,
   "id": "2d32e078-883f-44f0-8ecd-dd32407e276f",
   "metadata": {},
   "outputs": [
    {
     "name": "stdout",
     "output_type": "stream",
     "text": [
      "54\n"
     ]
    }
   ],
   "source": [
    "print(6 * 9)\n"
   ]
  },
  {
   "cell_type": "raw",
   "id": "36a79997-4701-4736-b3dc-af788d2a2976",
   "metadata": {},
   "source": [
    "5. Question 5:\n",
    "Write a Python program that prints the result of adding 5 + 5 and\n",
    "multiplying 2 * 3 in a single line of code."
   ]
  },
  {
   "cell_type": "code",
   "execution_count": 5,
   "id": "4b3ffa8b-aa82-4f77-bd2e-ce03c71d608a",
   "metadata": {},
   "outputs": [
    {
     "name": "stdout",
     "output_type": "stream",
     "text": [
      "10 6\n"
     ]
    }
   ],
   "source": [
    "print(5 + 5, 2 * 3)\n"
   ]
  },
  {
   "cell_type": "raw",
   "id": "289a24bb-12a3-4e7c-8aa3-3e73dfd6376e",
   "metadata": {},
   "source": [
    "1. Take the name A as input from the user and print \"Hello A\", where A is\n",
    "the name in input."
   ]
  },
  {
   "cell_type": "code",
   "execution_count": null,
   "id": "59fcfb46-99fc-4a36-a74b-f90271b9e370",
   "metadata": {},
   "outputs": [],
   "source": [
    "name = input(\"Enter your name: \")\n",
    "print(\"Hello\", name)"
   ]
  },
  {
   "cell_type": "raw",
   "id": "14170921-d405-440e-91e3-7c89db320a19",
   "metadata": {},
   "source": [
    "2. You have x rupees in your savings. You google pay y rupees, print your\n",
    "bank balance"
   ]
  },
  {
   "cell_type": "code",
   "execution_count": 7,
   "id": "eb3bde06-5348-4d5d-85cb-f11fed0ae9fb",
   "metadata": {},
   "outputs": [
    {
     "name": "stdin",
     "output_type": "stream",
     "text": [
      "Enter your savings:  600000\n",
      "Enter amount to Google Pay:  444\n"
     ]
    },
    {
     "name": "stdout",
     "output_type": "stream",
     "text": [
      "Bank Balance: 599556\n"
     ]
    }
   ],
   "source": [
    "x = int(input(\"Enter your savings: \"))\n",
    "y = int(input(\"Enter amount to Google Pay: \"))\n",
    "balance = x - y\n",
    "print(\"Bank Balance:\", balance)"
   ]
  },
  {
   "cell_type": "raw",
   "id": "68ebfe84-2afc-443f-874b-25ed0189b1eb",
   "metadata": {},
   "source": [
    "3. Print the first five letters of the English alphabet i.e. A, B, C, D and E.\n",
    "one below each other"
   ]
  },
  {
   "cell_type": "code",
   "execution_count": 8,
   "id": "f205df76-f18d-4ecf-bc00-3a19f4e5bb73",
   "metadata": {},
   "outputs": [
    {
     "name": "stdout",
     "output_type": "stream",
     "text": [
      "A\n",
      "B\n",
      "C\n",
      "D\n",
      "E\n"
     ]
    }
   ],
   "source": [
    "print(\"A\")\n",
    "print(\"B\")\n",
    "print(\"C\")\n",
    "print(\"D\")\n",
    "print(\"E\")"
   ]
  },
  {
   "cell_type": "raw",
   "id": "43b40601-57a3-4249-8c17-a7aef87dc56e",
   "metadata": {},
   "source": [
    "4. Take two names A and B as input from the user, and print \"A says Hi to\n",
    "B\" (Without quotations), where A and B are the names in input."
   ]
  },
  {
   "cell_type": "code",
   "execution_count": 9,
   "id": "0e95f2e6-c7ba-4e68-b1f4-63c1b4d0ed5e",
   "metadata": {},
   "outputs": [
    {
     "name": "stdin",
     "output_type": "stream",
     "text": [
      "Enter name A:  tejas\n",
      "Enter name B:  neha\n"
     ]
    },
    {
     "name": "stdout",
     "output_type": "stream",
     "text": [
      "tejas says Hi to neha\n"
     ]
    }
   ],
   "source": [
    "A = input(\"Enter name A: \")\n",
    "B = input(\"Enter name B: \")\n",
    "print(A, \"says Hi to\", B)"
   ]
  }
 ],
 "metadata": {
  "kernelspec": {
   "display_name": "Python 3 (ipykernel)",
   "language": "python",
   "name": "python3"
  },
  "language_info": {
   "codemirror_mode": {
    "name": "ipython",
    "version": 3
   },
   "file_extension": ".py",
   "mimetype": "text/x-python",
   "name": "python",
   "nbconvert_exporter": "python",
   "pygments_lexer": "ipython3",
   "version": "3.12.7"
  }
 },
 "nbformat": 4,
 "nbformat_minor": 5
}
